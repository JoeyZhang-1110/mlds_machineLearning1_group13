{
 "cells": [
  {
   "cell_type": "code",
   "execution_count": 2,
   "id": "f08058e4",
   "metadata": {},
   "outputs": [
    {
     "name": "stderr",
     "output_type": "stream",
     "text": [
      "/var/folders/8k/q6d0vdfs4rlgwrf9mlvkdj6m0000gn/T/ipykernel_55530/2060529659.py:2: FutureWarning: The 'delim_whitespace' keyword in pd.read_csv is deprecated and will be removed in a future version. Use ``sep='\\s+'`` instead\n",
      "  auto = pd.read_csv(\"auto.txt\",delim_whitespace=True, na_values=\"NA\")\n"
     ]
    },
    {
     "data": {
      "text/html": [
       "<div>\n",
       "<style scoped>\n",
       "    .dataframe tbody tr th:only-of-type {\n",
       "        vertical-align: middle;\n",
       "    }\n",
       "\n",
       "    .dataframe tbody tr th {\n",
       "        vertical-align: top;\n",
       "    }\n",
       "\n",
       "    .dataframe thead th {\n",
       "        text-align: right;\n",
       "    }\n",
       "</style>\n",
       "<table border=\"1\" class=\"dataframe\">\n",
       "  <thead>\n",
       "    <tr style=\"text-align: right;\">\n",
       "      <th></th>\n",
       "      <th>mpg</th>\n",
       "      <th>cylinders</th>\n",
       "      <th>displacement</th>\n",
       "      <th>horsepower</th>\n",
       "      <th>weight</th>\n",
       "      <th>acceleration</th>\n",
       "      <th>year</th>\n",
       "      <th>origin</th>\n",
       "      <th>name</th>\n",
       "    </tr>\n",
       "  </thead>\n",
       "  <tbody>\n",
       "    <tr>\n",
       "      <th>0</th>\n",
       "      <td>18.0</td>\n",
       "      <td>8</td>\n",
       "      <td>307.0</td>\n",
       "      <td>130.0</td>\n",
       "      <td>3504.0</td>\n",
       "      <td>12.0</td>\n",
       "      <td>70</td>\n",
       "      <td>US</td>\n",
       "      <td>chevrolet chevelle malibu</td>\n",
       "    </tr>\n",
       "    <tr>\n",
       "      <th>1</th>\n",
       "      <td>15.0</td>\n",
       "      <td>8</td>\n",
       "      <td>350.0</td>\n",
       "      <td>165.0</td>\n",
       "      <td>3693.0</td>\n",
       "      <td>11.5</td>\n",
       "      <td>70</td>\n",
       "      <td>US</td>\n",
       "      <td>buick skylark 320</td>\n",
       "    </tr>\n",
       "    <tr>\n",
       "      <th>2</th>\n",
       "      <td>18.0</td>\n",
       "      <td>8</td>\n",
       "      <td>318.0</td>\n",
       "      <td>150.0</td>\n",
       "      <td>3436.0</td>\n",
       "      <td>11.0</td>\n",
       "      <td>70</td>\n",
       "      <td>US</td>\n",
       "      <td>plymouth satellite</td>\n",
       "    </tr>\n",
       "    <tr>\n",
       "      <th>3</th>\n",
       "      <td>16.0</td>\n",
       "      <td>8</td>\n",
       "      <td>304.0</td>\n",
       "      <td>150.0</td>\n",
       "      <td>3433.0</td>\n",
       "      <td>12.0</td>\n",
       "      <td>70</td>\n",
       "      <td>US</td>\n",
       "      <td>amc rebel sst</td>\n",
       "    </tr>\n",
       "    <tr>\n",
       "      <th>4</th>\n",
       "      <td>17.0</td>\n",
       "      <td>8</td>\n",
       "      <td>302.0</td>\n",
       "      <td>140.0</td>\n",
       "      <td>3449.0</td>\n",
       "      <td>10.5</td>\n",
       "      <td>70</td>\n",
       "      <td>US</td>\n",
       "      <td>ford torino</td>\n",
       "    </tr>\n",
       "  </tbody>\n",
       "</table>\n",
       "</div>"
      ],
      "text/plain": [
       "    mpg  cylinders  displacement  horsepower  weight  acceleration  year  \\\n",
       "0  18.0          8         307.0       130.0  3504.0          12.0    70   \n",
       "1  15.0          8         350.0       165.0  3693.0          11.5    70   \n",
       "2  18.0          8         318.0       150.0  3436.0          11.0    70   \n",
       "3  16.0          8         304.0       150.0  3433.0          12.0    70   \n",
       "4  17.0          8         302.0       140.0  3449.0          10.5    70   \n",
       "\n",
       "  origin                       name  \n",
       "0     US  chevrolet chevelle malibu  \n",
       "1     US          buick skylark 320  \n",
       "2     US         plymouth satellite  \n",
       "3     US              amc rebel sst  \n",
       "4     US                ford torino  "
      ]
     },
     "execution_count": 2,
     "metadata": {},
     "output_type": "execute_result"
    }
   ],
   "source": [
    "import pandas as pd\n",
    "auto = pd.read_csv(\"auto.txt\",delim_whitespace=True, na_values=\"NA\")\n",
    "auto['origin'] = auto['origin'].map({1: \"US\", 2: \"Europe\", 3: \"Japan\"}).astype(\"category\")\n",
    "auto = auto.dropna(subset=['horsepower'])\n",
    "auto.head()"
   ]
  },
  {
   "cell_type": "markdown",
   "id": "a2094c88",
   "metadata": {},
   "source": [
    "#### part (a)"
   ]
  },
  {
   "cell_type": "code",
   "execution_count": 3,
   "id": "0bd9810d",
   "metadata": {},
   "outputs": [
    {
     "name": "stdout",
     "output_type": "stream",
     "text": [
      "                            OLS Regression Results                            \n",
      "==============================================================================\n",
      "Dep. Variable:                    mpg   R-squared:                       0.606\n",
      "Model:                            OLS   Adj. R-squared:                  0.605\n",
      "Method:                 Least Squares   F-statistic:                     599.7\n",
      "Date:                Tue, 23 Sep 2025   Prob (F-statistic):           7.03e-81\n",
      "Time:                        14:50:55   Log-Likelihood:                -1178.7\n",
      "No. Observations:                 392   AIC:                             2361.\n",
      "Df Residuals:                     390   BIC:                             2369.\n",
      "Df Model:                           1                                         \n",
      "Covariance Type:            nonrobust                                         \n",
      "==============================================================================\n",
      "                 coef    std err          t      P>|t|      [0.025      0.975]\n",
      "------------------------------------------------------------------------------\n",
      "const         39.9359      0.717     55.660      0.000      38.525      41.347\n",
      "horsepower    -0.1578      0.006    -24.489      0.000      -0.171      -0.145\n",
      "==============================================================================\n",
      "Omnibus:                       16.432   Durbin-Watson:                   0.920\n",
      "Prob(Omnibus):                  0.000   Jarque-Bera (JB):               17.305\n",
      "Skew:                           0.492   Prob(JB):                     0.000175\n",
      "Kurtosis:                       3.299   Cond. No.                         322.\n",
      "==============================================================================\n",
      "\n",
      "Notes:\n",
      "[1] Standard Errors assume that the covariance matrix of the errors is correctly specified.\n"
     ]
    }
   ],
   "source": [
    "import statsmodels.api as sm\n",
    "\n",
    "X = sm.add_constant(auto['horsepower'])\n",
    "y = auto['mpg']\n",
    "\n",
    "model = sm.OLS(y, X).fit()\n",
    "print(model.summary())"
   ]
  },
  {
   "cell_type": "markdown",
   "id": "a91a4537",
   "metadata": {},
   "source": [
    "Regresison expression:\n",
    "mpg = 39.9359 - 0.1578 * horsepower"
   ]
  },
  {
   "cell_type": "markdown",
   "id": "77b13175",
   "metadata": {},
   "source": [
    "#### part (b)\n",
    "For each additional 1 horsepower, there would be 0.1578 fewer mpg on average."
   ]
  },
  {
   "cell_type": "markdown",
   "id": "b5786aeb",
   "metadata": {},
   "source": [
    "#### part (d)"
   ]
  },
  {
   "cell_type": "code",
   "execution_count": 4,
   "id": "4ca8062b",
   "metadata": {},
   "outputs": [
    {
     "name": "stdout",
     "output_type": "stream",
     "text": [
      "RSE: 4.90575691954594\n"
     ]
    }
   ],
   "source": [
    "import numpy as np\n",
    "y_hat = model.fittedvalues\n",
    "residuals = y - y_hat\n",
    "RSS = sum(residuals**2)\n",
    "n = len(auto)\n",
    "RSE = np.sqrt(RSS/(n-1-1))\n",
    "print(f\"RSE: {RSE}\")"
   ]
  },
  {
   "cell_type": "markdown",
   "id": "a396feec",
   "metadata": {},
   "source": [
    "RSE = 4.9. This means the typical deviation of actual mpg from the fitted regression line is about ±4.9 mpg."
   ]
  },
  {
   "cell_type": "markdown",
   "id": "18988ce7",
   "metadata": {},
   "source": [
    "#### part (e)\n",
    "Yes. The p-value for horsepower < 0.0001, so horsepower is a significant predictor of mpg."
   ]
  },
  {
   "cell_type": "markdown",
   "id": "ad65d1fb",
   "metadata": {},
   "source": [
    "#### part (f)\n",
    "R^2 = 0.606, which means 60.6% of the variation in mpg is explained by horsepower."
   ]
  },
  {
   "cell_type": "markdown",
   "id": "ed45f978",
   "metadata": {},
   "source": [
    "#### part(g)"
   ]
  },
  {
   "cell_type": "code",
   "execution_count": 5,
   "id": "ac389b06",
   "metadata": {},
   "outputs": [
    {
     "name": "stdout",
     "output_type": "stream",
     "text": [
      "Predicted mpg for 98 horsepower: 24.4715\n"
     ]
    }
   ],
   "source": [
    "mpg = 39.9359 - 0.1578 * 98\n",
    "print(f\"Predicted mpg for 98 horsepower: {mpg}\")"
   ]
  },
  {
   "cell_type": "markdown",
   "id": "77c5ef88",
   "metadata": {},
   "source": [
    "#### part(h)\n",
    "Question: What mpg do we expect for one random car with 98 HP?"
   ]
  },
  {
   "cell_type": "code",
   "execution_count": 6,
   "id": "0c75833d",
   "metadata": {},
   "outputs": [
    {
     "name": "stdout",
     "output_type": "stream",
     "text": [
      "        mean   mean_se  mean_ci_lower  mean_ci_upper  obs_ci_lower  \\\n",
      "0  24.467077  0.251262      23.973079      24.961075     14.809396   \n",
      "\n",
      "   obs_ci_upper  \n",
      "0     34.124758  \n"
     ]
    }
   ],
   "source": [
    "new_X = pd.DataFrame({\"const\": [1], \"horsepower\": [98]})\n",
    "pred = model.get_prediction(new_X)\n",
    "pred_summary = pred.summary_frame(alpha=0.05) \n",
    "print(pred_summary)"
   ]
  },
  {
   "cell_type": "markdown",
   "id": "714ff791",
   "metadata": {},
   "source": [
    "prediction interval: [14.809396, 34.124758]"
   ]
  },
  {
   "cell_type": "markdown",
   "id": "77d98163",
   "metadata": {},
   "source": [
    "#### part (i)"
   ]
  },
  {
   "cell_type": "code",
   "execution_count": 7,
   "id": "d8fb7fc4",
   "metadata": {},
   "outputs": [
    {
     "name": "stdout",
     "output_type": "stream",
     "text": [
      "        mean   mean_se  mean_ci_lower  mean_ci_upper  obs_ci_lower  \\\n",
      "0  24.467077  0.251262      23.816686      25.117468     11.751909   \n",
      "\n",
      "   obs_ci_upper  \n",
      "0     37.182245  \n"
     ]
    }
   ],
   "source": [
    "pred_summary_1 = pred.summary_frame(alpha=0.01) \n",
    "print(pred_summary_1)"
   ]
  },
  {
   "cell_type": "markdown",
   "id": "9bde6dbc",
   "metadata": {},
   "source": [
    "Confidence interval: [23.816686, 25.117468]\n",
    "What is the average mpg of ALL cars with 98 HP?"
   ]
  },
  {
   "cell_type": "markdown",
   "id": "ea089c9a",
   "metadata": {},
   "source": [
    "### part (j)"
   ]
  },
  {
   "cell_type": "code",
   "execution_count": null,
   "id": "82130034",
   "metadata": {},
   "outputs": [
    {
     "data": {
      "text/plain": [
       "(-0.16847188176568642, -0.14721758494162082)"
      ]
     },
     "execution_count": 9,
     "metadata": {},
     "output_type": "execute_result"
    }
   ],
   "source": [
    "from scipy import stats\n",
    "\n",
    "slope = model.params['horsepower']\n",
    "se_slope = model.bse['horsepower']\n",
    "\n",
    "\n",
    "df = model.df_resid \n",
    "t_crit = stats.t.ppf(1 - 0.05, df)\n",
    "\n",
    "lower = slope - t_crit * se_slope\n",
    "upper = slope + t_crit * se_slope\n",
    "(lower, upper)"
   ]
  },
  {
   "cell_type": "code",
   "execution_count": 13,
   "id": "7e19d6ec",
   "metadata": {},
   "outputs": [
    {
     "data": {
      "image/png": "[encoded data removed]",
      "text/plain": [
       "<Figure size 640x480 with 1 Axes>"
      ]
     },
     "metadata": {},
     "output_type": "display_data"
    }
   ],
   "source": [
    "#### part(k)\n",
    "import matplotlib.pyplot as plt\n",
    "import statsmodels.api as sm\n",
    "\n",
    "residuals = model.resid\n",
    "fitted = model.fittedvalues\n",
    "\n",
    "plt.scatter(fitted, residuals)\n",
    "plt.axhline(0, color='red', linestyle='--')\n",
    "plt.xlabel('Fitted values')\n",
    "plt.ylabel('Residuals')\n",
    "plt.title('Residuals vs Fitted')\n",
    "plt.show()"
   ]
  },
  {
   "cell_type": "code",
   "execution_count": null,
   "id": "f086e444",
   "metadata": {},
   "outputs": [
    {
     "data": {
      "image/png": "[encoded data removed]",
      "text/plain": [
       "<Figure size 640x480 with 1 Axes>"
      ]
     },
     "metadata": {},
     "output_type": "display_data"
    }
   ],
   "source": [
    "sm.qqplot(residuals, line='45')\n",
    "plt.title('Q-Q plot of residuals')\n",
    "plt.show()"
   ]
  },
  {
   "cell_type": "markdown",
   "id": "832cce98",
   "metadata": {},
   "source": [
    "The residual vs. fitted plot shows a random scatter of points around the horizontal red line. However, the spread of the residuals is not uniform and variance of the residuals isn't constant across all levels of the fitted values. So the homoscedasticity assumption is not met.\n",
    "\n",
    "The points in the QQ plot do not follow the diagonal line perfectly. The tails of the distribution (both the upper and lower ends) deviate significantly from the line. This suggests that the residuals are not normally distributed, which also violated the assumption of the model"
   ]
  }
 ],
 "metadata": {
  "kernelspec": {
   "display_name": "base",
   "language": "python",
   "name": "python3"
  },
  "language_info": {
   "codemirror_mode": {
    "name": "ipython",
    "version": 3
   },
   "file_extension": ".py",
   "mimetype": "text/x-python",
   "name": "python",
   "nbconvert_exporter": "python",
   "pygments_lexer": "ipython3",
   "version": "3.12.2"
  }
 },
 "nbformat": 4,
 "nbformat_minor": 5
}
