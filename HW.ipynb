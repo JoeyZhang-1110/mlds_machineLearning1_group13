{
 "cells": [
  {
   "cell_type": "code",
   "execution_count": 134,
   "id": "fb958699",
   "metadata": {},
   "outputs": [],
   "source": [
    "import matplotlib.pyplot as plt\n",
    "import numpy as np\n",
    "import pandas as pd\n",
    "import statsmodels.api as sm\n",
    "from IPython.display import Math, display"
   ]
  },
  {
   "cell_type": "markdown",
   "id": "1485248d",
   "metadata": {},
   "source": [
    "# Task 1"
   ]
  },
  {
   "cell_type": "markdown",
   "id": "7ad3f0f6",
   "metadata": {},
   "source": [
    "### Load & Clean Data"
   ]
  },
  {
   "cell_type": "code",
   "execution_count": 135,
   "id": "32596340",
   "metadata": {},
   "outputs": [
    {
     "data": {
      "application/vnd.microsoft.datawrangler.viewer.v0+json": {
       "columns": [
        {
         "name": "index",
         "rawType": "int64",
         "type": "integer"
        },
        {
         "name": "Date",
         "rawType": "object",
         "type": "string"
        },
        {
         "name": "S&P 500",
         "rawType": "object",
         "type": "string"
        },
        {
         "name": "IBM",
         "rawType": "object",
         "type": "string"
        },
        {
         "name": "Apple",
         "rawType": "object",
         "type": "string"
        },
        {
         "name": "Unnamed: 4",
         "rawType": "float64",
         "type": "float"
        }
       ],
       "ref": "13cf9135-5219-4304-b692-6e1efdd3c42a",
       "rows": [
        [
         "0",
         "9/3/2013",
         "3.95%",
         "4.22%",
         "0.39%",
         null
        ],
        [
         "1",
         "8/1/2013",
         "-3.13%",
         "-6.08%",
         "8.38%",
         null
        ],
        [
         "2",
         "7/1/2013",
         "4.95%",
         "2.06%",
         "14.12%",
         null
        ],
        [
         "3",
         "6/3/2013",
         "-1.50%",
         "-8.13%",
         "-11.83%",
         null
        ],
        [
         "4",
         "5/1/2013",
         "2.08%",
         "3.19%",
         "2.24%",
         null
        ]
       ],
       "shape": {
        "columns": 5,
        "rows": 5
       }
      },
      "text/html": [
       "<div>\n",
       "<style scoped>\n",
       "    .dataframe tbody tr th:only-of-type {\n",
       "        vertical-align: middle;\n",
       "    }\n",
       "\n",
       "    .dataframe tbody tr th {\n",
       "        vertical-align: top;\n",
       "    }\n",
       "\n",
       "    .dataframe thead th {\n",
       "        text-align: right;\n",
       "    }\n",
       "</style>\n",
       "<table border=\"1\" class=\"dataframe\">\n",
       "  <thead>\n",
       "    <tr style=\"text-align: right;\">\n",
       "      <th></th>\n",
       "      <th>Date</th>\n",
       "      <th>S&amp;P 500</th>\n",
       "      <th>IBM</th>\n",
       "      <th>Apple</th>\n",
       "      <th>Unnamed: 4</th>\n",
       "    </tr>\n",
       "  </thead>\n",
       "  <tbody>\n",
       "    <tr>\n",
       "      <th>0</th>\n",
       "      <td>9/3/2013</td>\n",
       "      <td>3.95%</td>\n",
       "      <td>4.22%</td>\n",
       "      <td>0.39%</td>\n",
       "      <td>NaN</td>\n",
       "    </tr>\n",
       "    <tr>\n",
       "      <th>1</th>\n",
       "      <td>8/1/2013</td>\n",
       "      <td>-3.13%</td>\n",
       "      <td>-6.08%</td>\n",
       "      <td>8.38%</td>\n",
       "      <td>NaN</td>\n",
       "    </tr>\n",
       "    <tr>\n",
       "      <th>2</th>\n",
       "      <td>7/1/2013</td>\n",
       "      <td>4.95%</td>\n",
       "      <td>2.06%</td>\n",
       "      <td>14.12%</td>\n",
       "      <td>NaN</td>\n",
       "    </tr>\n",
       "    <tr>\n",
       "      <th>3</th>\n",
       "      <td>6/3/2013</td>\n",
       "      <td>-1.50%</td>\n",
       "      <td>-8.13%</td>\n",
       "      <td>-11.83%</td>\n",
       "      <td>NaN</td>\n",
       "    </tr>\n",
       "    <tr>\n",
       "      <th>4</th>\n",
       "      <td>5/1/2013</td>\n",
       "      <td>2.08%</td>\n",
       "      <td>3.19%</td>\n",
       "      <td>2.24%</td>\n",
       "      <td>NaN</td>\n",
       "    </tr>\n",
       "  </tbody>\n",
       "</table>\n",
       "</div>"
      ],
      "text/plain": [
       "       Date S&P 500     IBM    Apple  Unnamed: 4\n",
       "0  9/3/2013   3.95%   4.22%    0.39%         NaN\n",
       "1  8/1/2013  -3.13%  -6.08%    8.38%         NaN\n",
       "2  7/1/2013   4.95%   2.06%   14.12%         NaN\n",
       "3  6/3/2013  -1.50%  -8.13%  -11.83%         NaN\n",
       "4  5/1/2013   2.08%   3.19%    2.24%         NaN"
      ]
     },
     "execution_count": 135,
     "metadata": {},
     "output_type": "execute_result"
    }
   ],
   "source": [
    "df = pd.read_csv(\"IBM-Apple-SP500 RR Data.csv\", header=1)\n",
    "df.head()"
   ]
  },
  {
   "cell_type": "code",
   "execution_count": 136,
   "id": "a52246c4",
   "metadata": {},
   "outputs": [],
   "source": [
    "df.drop(columns=[\"Unnamed: 4\"], inplace=True)\n",
    "for col in [\"IBM\", \"Apple\", \"S&P 500\"]:\n",
    "    df[col] = df[col].astype(str).str.replace(\"%\", \"\", regex=False)\n",
    "    df[col] = pd.to_numeric(df[col], errors=\"coerce\") / 100.0"
   ]
  },
  {
   "cell_type": "code",
   "execution_count": 137,
   "id": "507fb903",
   "metadata": {},
   "outputs": [
    {
     "data": {
      "application/vnd.microsoft.datawrangler.viewer.v0+json": {
       "columns": [
        {
         "name": "index",
         "rawType": "int64",
         "type": "integer"
        },
        {
         "name": "Date",
         "rawType": "object",
         "type": "string"
        },
        {
         "name": "S&P 500",
         "rawType": "float64",
         "type": "float"
        },
        {
         "name": "IBM",
         "rawType": "float64",
         "type": "float"
        },
        {
         "name": "Apple",
         "rawType": "float64",
         "type": "float"
        }
       ],
       "ref": "4fef21a9-b8b9-4c85-9f4a-2d067fbfe122",
       "rows": [
        [
         "0",
         "9/3/2013",
         "0.0395",
         "0.042199999999999994",
         "0.0039000000000000003"
        ],
        [
         "1",
         "8/1/2013",
         "-0.0313",
         "-0.0608",
         "0.08380000000000001"
        ],
        [
         "2",
         "7/1/2013",
         "0.0495",
         "0.0206",
         "0.1412"
        ],
        [
         "3",
         "6/3/2013",
         "-0.015",
         "-0.08130000000000001",
         "-0.1183"
        ],
        [
         "4",
         "5/1/2013",
         "0.0208",
         "0.0319",
         "0.022400000000000003"
        ]
       ],
       "shape": {
        "columns": 4,
        "rows": 5
       }
      },
      "text/html": [
       "<div>\n",
       "<style scoped>\n",
       "    .dataframe tbody tr th:only-of-type {\n",
       "        vertical-align: middle;\n",
       "    }\n",
       "\n",
       "    .dataframe tbody tr th {\n",
       "        vertical-align: top;\n",
       "    }\n",
       "\n",
       "    .dataframe thead th {\n",
       "        text-align: right;\n",
       "    }\n",
       "</style>\n",
       "<table border=\"1\" class=\"dataframe\">\n",
       "  <thead>\n",
       "    <tr style=\"text-align: right;\">\n",
       "      <th></th>\n",
       "      <th>Date</th>\n",
       "      <th>S&amp;P 500</th>\n",
       "      <th>IBM</th>\n",
       "      <th>Apple</th>\n",
       "    </tr>\n",
       "  </thead>\n",
       "  <tbody>\n",
       "    <tr>\n",
       "      <th>0</th>\n",
       "      <td>9/3/2013</td>\n",
       "      <td>0.0395</td>\n",
       "      <td>0.0422</td>\n",
       "      <td>0.0039</td>\n",
       "    </tr>\n",
       "    <tr>\n",
       "      <th>1</th>\n",
       "      <td>8/1/2013</td>\n",
       "      <td>-0.0313</td>\n",
       "      <td>-0.0608</td>\n",
       "      <td>0.0838</td>\n",
       "    </tr>\n",
       "    <tr>\n",
       "      <th>2</th>\n",
       "      <td>7/1/2013</td>\n",
       "      <td>0.0495</td>\n",
       "      <td>0.0206</td>\n",
       "      <td>0.1412</td>\n",
       "    </tr>\n",
       "    <tr>\n",
       "      <th>3</th>\n",
       "      <td>6/3/2013</td>\n",
       "      <td>-0.0150</td>\n",
       "      <td>-0.0813</td>\n",
       "      <td>-0.1183</td>\n",
       "    </tr>\n",
       "    <tr>\n",
       "      <th>4</th>\n",
       "      <td>5/1/2013</td>\n",
       "      <td>0.0208</td>\n",
       "      <td>0.0319</td>\n",
       "      <td>0.0224</td>\n",
       "    </tr>\n",
       "  </tbody>\n",
       "</table>\n",
       "</div>"
      ],
      "text/plain": [
       "       Date  S&P 500     IBM   Apple\n",
       "0  9/3/2013   0.0395  0.0422  0.0039\n",
       "1  8/1/2013  -0.0313 -0.0608  0.0838\n",
       "2  7/1/2013   0.0495  0.0206  0.1412\n",
       "3  6/3/2013  -0.0150 -0.0813 -0.1183\n",
       "4  5/1/2013   0.0208  0.0319  0.0224"
      ]
     },
     "execution_count": 137,
     "metadata": {},
     "output_type": "execute_result"
    }
   ],
   "source": [
    "df.head()"
   ]
  },
  {
   "cell_type": "markdown",
   "id": "ae9c3f14",
   "metadata": {},
   "source": [
    "### 1a) Make Scatter Plots of rates of return of IBM vs. S&P 500 and of Apple vs. S&P 500 and comment on them."
   ]
  },
  {
   "cell_type": "code",
   "execution_count": 138,
   "id": "b3a4ca2d",
   "metadata": {},
   "outputs": [
    {
     "data": {
      "image/png": "[encoded data removed]",
      "text/plain": [
       "<Figure size 1200x600 with 2 Axes>"
      ]
     },
     "metadata": {},
     "output_type": "display_data"
    }
   ],
   "source": [
    "fig, ax = plt.subplots(nrows=1, ncols=2, figsize=(12, 6))\n",
    "\n",
    "ax[0].scatter(df[\"S&P 500\"], df[\"IBM\"], color=\"orange\", edgecolors=\"black\", alpha=0.5)\n",
    "ax[0].set_title(\"IBM vs. S&P 500\")\n",
    "ax[0].set_xlabel(\"S&P 500 Returns\")\n",
    "ax[0].set_ylabel(\"IBM Returns\")\n",
    "\n",
    "ax[1].scatter(df[\"S&P 500\"], df[\"Apple\"], color=\"blue\", edgecolors=\"black\", alpha=0.5)\n",
    "ax[1].set_title(\"Apple vs. S&P 500\")\n",
    "ax[1].set_xlabel(\"S&P 500 Returns\")\n",
    "ax[1].set_ylabel(\"Apple Returns\")\n",
    "\n",
    "plt.tight_layout()\n",
    "plt.show()"
   ]
  },
  {
   "cell_type": "markdown",
   "id": "e4c5ba21",
   "metadata": {},
   "source": [
    "The scatter plots show that there is a linear relationship between S&P 500 return rates and both Apple and IBM return rates. Although there is a good amount of noise visible, the return rates for both APple and IBM tend to go up as S&D 500 goes up."
   ]
  },
  {
   "cell_type": "markdown",
   "id": "f107d6a5",
   "metadata": {},
   "source": [
    "### 1b) Calculate the $\\beta$'s for IBM and Apple with reference to S&P 500. Comment on the relative magnitudes of the $\\beta$'s. Which stock had a higher expected return relative to S&P 500?"
   ]
  },
  {
   "cell_type": "code",
   "execution_count": 139,
   "id": "6a1070dc",
   "metadata": {},
   "outputs": [
    {
     "data": {
      "text/latex": [
       "$\\displaystyle IBM: \\hat\\beta_1 = 0.745$"
      ],
      "text/plain": [
       "<IPython.core.display.Math object>"
      ]
     },
     "metadata": {},
     "output_type": "display_data"
    }
   ],
   "source": [
    "X = sm.add_constant(df[\"S&P 500\"])\n",
    "y = df[\"IBM\"]\n",
    "model = sm.OLS(y, X).fit()\n",
    "beta_ibm = model.params[\"S&P 500\"]\n",
    "display(Math(rf\"IBM: \\hat\\beta_1 = {beta_ibm:.3f}\"))"
   ]
  },
  {
   "cell_type": "code",
   "execution_count": 140,
   "id": "3f1fba3b",
   "metadata": {},
   "outputs": [
    {
     "data": {
      "text/latex": [
       "$\\displaystyle Apple: \\hat\\beta_1 = 1.245$"
      ],
      "text/plain": [
       "<IPython.core.display.Math object>"
      ]
     },
     "metadata": {},
     "output_type": "display_data"
    }
   ],
   "source": [
    "X = sm.add_constant(df[\"S&P 500\"])\n",
    "y = df[\"Apple\"]\n",
    "model = sm.OLS(y, X).fit()\n",
    "beta_apple = model.params[\"S&P 500\"]\n",
    "display(Math(rf\"Apple: \\hat\\beta_1 = {beta_apple:.3f}\"))"
   ]
  },
  {
   "cell_type": "markdown",
   "id": "5417cb4f",
   "metadata": {},
   "source": [
    "The estimated $\\beta$ for IBM is 0.74, while Apple’s $\\beta$ is 1.24. This indicates that IBM is less volatile than the market, behaving more defensively, while Apple is more sensitive to market movements and carries higher systematic risk. Since Apple has a higher $\\beta$, it also has a higher expected return relative to the S&P 500, whereas IBM’s expected return will be lower."
   ]
  },
  {
   "cell_type": "markdown",
   "id": "42aa4ab1",
   "metadata": {},
   "source": [
    "### 1c) Calculate the sample standard deviations (SDs) of the rates of return for S&P 500, IBM and Apple. Also calculate the correlation matrix. Check that $\\hat{\\beta} = r s_y / s_x$ for each stock where r is the correlation coefficient between S&P 500 and the given stock $s_x$ is the SD of S&P 500 and $s_y$ is the sample SD of the given stock."
   ]
  },
  {
   "cell_type": "code",
   "execution_count": 141,
   "id": "ce7d8d3b",
   "metadata": {},
   "outputs": [
    {
     "data": {
      "text/latex": [
       "$\\displaystyle S\\&P \\space  500: s_y = 0.045$"
      ],
      "text/plain": [
       "<IPython.core.display.Math object>"
      ]
     },
     "metadata": {},
     "output_type": "display_data"
    },
    {
     "data": {
      "text/latex": [
       "$\\displaystyle IBM: s_y = 0.056$"
      ],
      "text/plain": [
       "<IPython.core.display.Math object>"
      ]
     },
     "metadata": {},
     "output_type": "display_data"
    },
    {
     "data": {
      "text/latex": [
       "$\\displaystyle Apple: s_y = 0.103$"
      ],
      "text/plain": [
       "<IPython.core.display.Math object>"
      ]
     },
     "metadata": {},
     "output_type": "display_data"
    }
   ],
   "source": [
    "sy_sp500 = np.std(df[\"S&P 500\"], ddof=1)\n",
    "sy_ibm = np.std(df[\"IBM\"], ddof=1)\n",
    "sy_apple = np.std(df[\"Apple\"], ddof=1)\n",
    "\n",
    "display(Math(rf\"S\\&P \\space  500: s_y = {sy_sp500:.3f}\"))\n",
    "display(Math(rf\"IBM: s_y = {sy_ibm:.3f}\"))\n",
    "display(Math(rf\"Apple: s_y = {sy_apple:.3f}\"))"
   ]
  },
  {
   "cell_type": "code",
   "execution_count": 142,
   "id": "470faefc",
   "metadata": {},
   "outputs": [
    {
     "name": "stdout",
     "output_type": "stream",
     "text": [
      "          S&P 500       IBM     Apple\n",
      "S&P 500  1.000000  0.597478  0.538232\n",
      "IBM      0.597478  1.000000  0.414725\n",
      "Apple    0.538232  0.414725  1.000000\n"
     ]
    }
   ],
   "source": [
    "corr_matrix = df[[\"S&P 500\", \"IBM\", \"Apple\"]].corr()\n",
    "print(corr_matrix)"
   ]
  },
  {
   "cell_type": "code",
   "execution_count": 143,
   "id": "0c43a7f4",
   "metadata": {},
   "outputs": [
    {
     "name": "stdout",
     "output_type": "stream",
     "text": [
      "IBM: 0.745 = 0.745\n",
      "Apple: 1.245 = 1.245\n"
     ]
    }
   ],
   "source": [
    "print(\n",
    "    f\"IBM: {corr_matrix.loc['S&P 500', 'IBM'] * sy_ibm / sy_sp500:.3f} = {beta_ibm:.3f}\"\n",
    ")\n",
    "print(\n",
    "    f\"Apple: {corr_matrix.loc['S&P 500', 'Apple'] * sy_apple / sy_sp500:.3f} = {beta_apple:.3f}\"\n",
    ")"
   ]
  },
  {
   "cell_type": "markdown",
   "id": "798e4260",
   "metadata": {},
   "source": [
    "### 1d) Explain based on the statistics calculated how a higher expected return is accompanied by a higher volatility of the Apple stock."
   ]
  },
  {
   "cell_type": "markdown",
   "id": "19674eb7",
   "metadata": {},
   "source": [
    "Based on the calculated statistics, Apple has a higher $\\beta$ (1.24) compared to IBM (0.74), which indicates that Apple is more sensitive to market movements. This higher systematic risk is accompanied by a higher standard deviation of returns, reflecting greater day-to-day fluctuations, which means there is a higher volatility of the Apple stock."
   ]
  },
  {
   "cell_type": "markdown",
   "id": "51860792",
   "metadata": {},
   "source": [
    "# Task 2"
   ]
  },
  {
   "cell_type": "markdown",
   "id": "5777a9aa",
   "metadata": {},
   "source": [
    "### Load & Clean Data"
   ]
  },
  {
   "cell_type": "code",
   "execution_count": 144,
   "id": "8c296ec2",
   "metadata": {},
   "outputs": [
    {
     "data": {
      "application/vnd.microsoft.datawrangler.viewer.v0+json": {
       "columns": [
        {
         "name": "index",
         "rawType": "int64",
         "type": "integer"
        },
        {
         "name": "mpg",
         "rawType": "float64",
         "type": "float"
        },
        {
         "name": "cylinders",
         "rawType": "int64",
         "type": "integer"
        },
        {
         "name": "displacement",
         "rawType": "float64",
         "type": "float"
        },
        {
         "name": "horsepower",
         "rawType": "float64",
         "type": "float"
        },
        {
         "name": "weight",
         "rawType": "float64",
         "type": "float"
        },
        {
         "name": "acceleration",
         "rawType": "float64",
         "type": "float"
        },
        {
         "name": "year",
         "rawType": "int64",
         "type": "integer"
        },
        {
         "name": "origin",
         "rawType": "int64",
         "type": "integer"
        },
        {
         "name": "name",
         "rawType": "object",
         "type": "string"
        }
       ],
       "ref": "84705c6f-a0b1-44b0-9df6-453488a3bc9b",
       "rows": [
        [
         "0",
         "18.0",
         "8",
         "307.0",
         "130.0",
         "3504.0",
         "12.0",
         "70",
         "1",
         "chevrolet chevelle malibu"
        ],
        [
         "1",
         "15.0",
         "8",
         "350.0",
         "165.0",
         "3693.0",
         "11.5",
         "70",
         "1",
         "buick skylark 320"
        ],
        [
         "2",
         "18.0",
         "8",
         "318.0",
         "150.0",
         "3436.0",
         "11.0",
         "70",
         "1",
         "plymouth satellite"
        ],
        [
         "3",
         "16.0",
         "8",
         "304.0",
         "150.0",
         "3433.0",
         "12.0",
         "70",
         "1",
         "amc rebel sst"
        ],
        [
         "4",
         "17.0",
         "8",
         "302.0",
         "140.0",
         "3449.0",
         "10.5",
         "70",
         "1",
         "ford torino"
        ]
       ],
       "shape": {
        "columns": 9,
        "rows": 5
       }
      },
      "text/html": [
       "<div>\n",
       "<style scoped>\n",
       "    .dataframe tbody tr th:only-of-type {\n",
       "        vertical-align: middle;\n",
       "    }\n",
       "\n",
       "    .dataframe tbody tr th {\n",
       "        vertical-align: top;\n",
       "    }\n",
       "\n",
       "    .dataframe thead th {\n",
       "        text-align: right;\n",
       "    }\n",
       "</style>\n",
       "<table border=\"1\" class=\"dataframe\">\n",
       "  <thead>\n",
       "    <tr style=\"text-align: right;\">\n",
       "      <th></th>\n",
       "      <th>mpg</th>\n",
       "      <th>cylinders</th>\n",
       "      <th>displacement</th>\n",
       "      <th>horsepower</th>\n",
       "      <th>weight</th>\n",
       "      <th>acceleration</th>\n",
       "      <th>year</th>\n",
       "      <th>origin</th>\n",
       "      <th>name</th>\n",
       "    </tr>\n",
       "  </thead>\n",
       "  <tbody>\n",
       "    <tr>\n",
       "      <th>0</th>\n",
       "      <td>18.0</td>\n",
       "      <td>8</td>\n",
       "      <td>307.0</td>\n",
       "      <td>130.0</td>\n",
       "      <td>3504.0</td>\n",
       "      <td>12.0</td>\n",
       "      <td>70</td>\n",
       "      <td>1</td>\n",
       "      <td>chevrolet chevelle malibu</td>\n",
       "    </tr>\n",
       "    <tr>\n",
       "      <th>1</th>\n",
       "      <td>15.0</td>\n",
       "      <td>8</td>\n",
       "      <td>350.0</td>\n",
       "      <td>165.0</td>\n",
       "      <td>3693.0</td>\n",
       "      <td>11.5</td>\n",
       "      <td>70</td>\n",
       "      <td>1</td>\n",
       "      <td>buick skylark 320</td>\n",
       "    </tr>\n",
       "    <tr>\n",
       "      <th>2</th>\n",
       "      <td>18.0</td>\n",
       "      <td>8</td>\n",
       "      <td>318.0</td>\n",
       "      <td>150.0</td>\n",
       "      <td>3436.0</td>\n",
       "      <td>11.0</td>\n",
       "      <td>70</td>\n",
       "      <td>1</td>\n",
       "      <td>plymouth satellite</td>\n",
       "    </tr>\n",
       "    <tr>\n",
       "      <th>3</th>\n",
       "      <td>16.0</td>\n",
       "      <td>8</td>\n",
       "      <td>304.0</td>\n",
       "      <td>150.0</td>\n",
       "      <td>3433.0</td>\n",
       "      <td>12.0</td>\n",
       "      <td>70</td>\n",
       "      <td>1</td>\n",
       "      <td>amc rebel sst</td>\n",
       "    </tr>\n",
       "    <tr>\n",
       "      <th>4</th>\n",
       "      <td>17.0</td>\n",
       "      <td>8</td>\n",
       "      <td>302.0</td>\n",
       "      <td>140.0</td>\n",
       "      <td>3449.0</td>\n",
       "      <td>10.5</td>\n",
       "      <td>70</td>\n",
       "      <td>1</td>\n",
       "      <td>ford torino</td>\n",
       "    </tr>\n",
       "  </tbody>\n",
       "</table>\n",
       "</div>"
      ],
      "text/plain": [
       "    mpg  cylinders  displacement  horsepower  weight  acceleration  year  \\\n",
       "0  18.0          8         307.0       130.0  3504.0          12.0    70   \n",
       "1  15.0          8         350.0       165.0  3693.0          11.5    70   \n",
       "2  18.0          8         318.0       150.0  3436.0          11.0    70   \n",
       "3  16.0          8         304.0       150.0  3433.0          12.0    70   \n",
       "4  17.0          8         302.0       140.0  3449.0          10.5    70   \n",
       "\n",
       "   origin                       name  \n",
       "0       1  chevrolet chevelle malibu  \n",
       "1       1          buick skylark 320  \n",
       "2       1         plymouth satellite  \n",
       "3       1              amc rebel sst  \n",
       "4       1                ford torino  "
      ]
     },
     "execution_count": 144,
     "metadata": {},
     "output_type": "execute_result"
    }
   ],
   "source": [
    "df = pd.read_csv(\"auto.txt\", sep=r\"\\s+\", quotechar='\"', na_values=\"?\")\n",
    "df.head()"
   ]
  },
  {
   "cell_type": "code",
   "execution_count": 145,
   "id": "1b9c895b",
   "metadata": {},
   "outputs": [
    {
     "data": {
      "application/vnd.microsoft.datawrangler.viewer.v0+json": {
       "columns": [
        {
         "name": "index",
         "rawType": "int64",
         "type": "integer"
        },
        {
         "name": "mpg",
         "rawType": "float64",
         "type": "float"
        },
        {
         "name": "cylinders",
         "rawType": "int64",
         "type": "integer"
        },
        {
         "name": "displacement",
         "rawType": "float64",
         "type": "float"
        },
        {
         "name": "horsepower",
         "rawType": "float64",
         "type": "float"
        },
        {
         "name": "weight",
         "rawType": "float64",
         "type": "float"
        },
        {
         "name": "acceleration",
         "rawType": "float64",
         "type": "float"
        },
        {
         "name": "year",
         "rawType": "int64",
         "type": "integer"
        },
        {
         "name": "origin",
         "rawType": "category",
         "type": "unknown"
        },
        {
         "name": "name",
         "rawType": "object",
         "type": "string"
        }
       ],
       "ref": "663bc882-6d79-4e76-9ef7-83ed78af1666",
       "rows": [
        [
         "0",
         "18.0",
         "8",
         "307.0",
         "130.0",
         "3504.0",
         "12.0",
         "70",
         "1",
         "chevrolet chevelle malibu"
        ],
        [
         "1",
         "15.0",
         "8",
         "350.0",
         "165.0",
         "3693.0",
         "11.5",
         "70",
         "1",
         "buick skylark 320"
        ],
        [
         "2",
         "18.0",
         "8",
         "318.0",
         "150.0",
         "3436.0",
         "11.0",
         "70",
         "1",
         "plymouth satellite"
        ],
        [
         "3",
         "16.0",
         "8",
         "304.0",
         "150.0",
         "3433.0",
         "12.0",
         "70",
         "1",
         "amc rebel sst"
        ],
        [
         "4",
         "17.0",
         "8",
         "302.0",
         "140.0",
         "3449.0",
         "10.5",
         "70",
         "1",
         "ford torino"
        ]
       ],
       "shape": {
        "columns": 9,
        "rows": 5
       }
      },
      "text/html": [
       "<div>\n",
       "<style scoped>\n",
       "    .dataframe tbody tr th:only-of-type {\n",
       "        vertical-align: middle;\n",
       "    }\n",
       "\n",
       "    .dataframe tbody tr th {\n",
       "        vertical-align: top;\n",
       "    }\n",
       "\n",
       "    .dataframe thead th {\n",
       "        text-align: right;\n",
       "    }\n",
       "</style>\n",
       "<table border=\"1\" class=\"dataframe\">\n",
       "  <thead>\n",
       "    <tr style=\"text-align: right;\">\n",
       "      <th></th>\n",
       "      <th>mpg</th>\n",
       "      <th>cylinders</th>\n",
       "      <th>displacement</th>\n",
       "      <th>horsepower</th>\n",
       "      <th>weight</th>\n",
       "      <th>acceleration</th>\n",
       "      <th>year</th>\n",
       "      <th>origin</th>\n",
       "      <th>name</th>\n",
       "    </tr>\n",
       "  </thead>\n",
       "  <tbody>\n",
       "    <tr>\n",
       "      <th>0</th>\n",
       "      <td>18.0</td>\n",
       "      <td>8</td>\n",
       "      <td>307.0</td>\n",
       "      <td>130.0</td>\n",
       "      <td>3504.0</td>\n",
       "      <td>12.0</td>\n",
       "      <td>70</td>\n",
       "      <td>1</td>\n",
       "      <td>chevrolet chevelle malibu</td>\n",
       "    </tr>\n",
       "    <tr>\n",
       "      <th>1</th>\n",
       "      <td>15.0</td>\n",
       "      <td>8</td>\n",
       "      <td>350.0</td>\n",
       "      <td>165.0</td>\n",
       "      <td>3693.0</td>\n",
       "      <td>11.5</td>\n",
       "      <td>70</td>\n",
       "      <td>1</td>\n",
       "      <td>buick skylark 320</td>\n",
       "    </tr>\n",
       "    <tr>\n",
       "      <th>2</th>\n",
       "      <td>18.0</td>\n",
       "      <td>8</td>\n",
       "      <td>318.0</td>\n",
       "      <td>150.0</td>\n",
       "      <td>3436.0</td>\n",
       "      <td>11.0</td>\n",
       "      <td>70</td>\n",
       "      <td>1</td>\n",
       "      <td>plymouth satellite</td>\n",
       "    </tr>\n",
       "    <tr>\n",
       "      <th>3</th>\n",
       "      <td>16.0</td>\n",
       "      <td>8</td>\n",
       "      <td>304.0</td>\n",
       "      <td>150.0</td>\n",
       "      <td>3433.0</td>\n",
       "      <td>12.0</td>\n",
       "      <td>70</td>\n",
       "      <td>1</td>\n",
       "      <td>amc rebel sst</td>\n",
       "    </tr>\n",
       "    <tr>\n",
       "      <th>4</th>\n",
       "      <td>17.0</td>\n",
       "      <td>8</td>\n",
       "      <td>302.0</td>\n",
       "      <td>140.0</td>\n",
       "      <td>3449.0</td>\n",
       "      <td>10.5</td>\n",
       "      <td>70</td>\n",
       "      <td>1</td>\n",
       "      <td>ford torino</td>\n",
       "    </tr>\n",
       "  </tbody>\n",
       "</table>\n",
       "</div>"
      ],
      "text/plain": [
       "    mpg  cylinders  displacement  horsepower  weight  acceleration  year  \\\n",
       "0  18.0          8         307.0       130.0  3504.0          12.0    70   \n",
       "1  15.0          8         350.0       165.0  3693.0          11.5    70   \n",
       "2  18.0          8         318.0       150.0  3436.0          11.0    70   \n",
       "3  16.0          8         304.0       150.0  3433.0          12.0    70   \n",
       "4  17.0          8         302.0       140.0  3449.0          10.5    70   \n",
       "\n",
       "  origin                       name  \n",
       "0      1  chevrolet chevelle malibu  \n",
       "1      1          buick skylark 320  \n",
       "2      1         plymouth satellite  \n",
       "3      1              amc rebel sst  \n",
       "4      1                ford torino  "
      ]
     },
     "execution_count": 145,
     "metadata": {},
     "output_type": "execute_result"
    }
   ],
   "source": [
    "df[\"origin\"] = df[\"origin\"].astype(\"category\")\n",
    "df = df.dropna(subset=[\"mpg\", \"horsepower\"])\n",
    "df.head()"
   ]
  },
  {
   "cell_type": "markdown",
   "id": "0049e4f6",
   "metadata": {},
   "source": [
    "### Create Model"
   ]
  },
  {
   "cell_type": "code",
   "execution_count": 147,
   "id": "01c73802",
   "metadata": {},
   "outputs": [
    {
     "name": "stdout",
     "output_type": "stream",
     "text": [
      "                            OLS Regression Results                            \n",
      "==============================================================================\n",
      "Dep. Variable:                    mpg   R-squared:                       0.606\n",
      "Model:                            OLS   Adj. R-squared:                  0.605\n",
      "Method:                 Least Squares   F-statistic:                     599.7\n",
      "Date:                Mon, 22 Sep 2025   Prob (F-statistic):           7.03e-81\n",
      "Time:                        22:05:28   Log-Likelihood:                -1178.7\n",
      "No. Observations:                 392   AIC:                             2361.\n",
      "Df Residuals:                     390   BIC:                             2369.\n",
      "Df Model:                           1                                         \n",
      "Covariance Type:            nonrobust                                         \n",
      "==============================================================================\n",
      "                 coef    std err          t      P>|t|      [0.025      0.975]\n",
      "------------------------------------------------------------------------------\n",
      "const         39.9359      0.717     55.660      0.000      38.525      41.347\n",
      "horsepower    -0.1578      0.006    -24.489      0.000      -0.171      -0.145\n",
      "==============================================================================\n",
      "Omnibus:                       16.432   Durbin-Watson:                   0.920\n",
      "Prob(Omnibus):                  0.000   Jarque-Bera (JB):               17.305\n",
      "Skew:                           0.492   Prob(JB):                     0.000175\n",
      "Kurtosis:                       3.299   Cond. No.                         322.\n",
      "==============================================================================\n",
      "\n",
      "Notes:\n",
      "[1] Standard Errors assume that the covariance matrix of the errors is correctly specified.\n"
     ]
    }
   ],
   "source": [
    "X = sm.add_constant(df[\"horsepower\"])\n",
    "y = df[\"mpg\"]\n",
    "model = sm.OLS(y, X).fit()\n",
    "print(model.summary())"
   ]
  },
  {
   "cell_type": "code",
   "execution_count": null,
   "id": "1ab9d7a2",
   "metadata": {},
   "outputs": [
    {
     "data": {
      "image/png": "[encoded data removed]",
      "text/plain": [
       "<Figure size 640x480 with 1 Axes>"
      ]
     },
     "metadata": {},
     "output_type": "display_data"
    }
   ],
   "source": [
    "plt.scatter(df[\"horsepower\"], df[\"mpg\"], edgecolors=\"black\", alpha=0.5)\n",
    "plt.xlabel(\"Horsepower\")\n",
    "plt.ylabel(\"MPG\")\n",
    "plt.title(\"MPG vs Horsepower\")\n",
    "\n",
    "hp_vals = np.linspace(df[\"horsepower\"].min(), df[\"horsepower\"].max(), 100)\n",
    "mpg_pred = model.params[\"const\"] + model.params[\"horsepower\"] * hp_vals\n",
    "plt.plot(hp_vals, mpg_pred, color=\"red\", linewidth=2)\n",
    "\n",
    "plt.show()"
   ]
  },
  {
   "cell_type": "markdown",
   "id": "2b53e37a",
   "metadata": {},
   "source": [
    "### 2a) What is the estimated regression equation?"
   ]
  },
  {
   "cell_type": "markdown",
   "id": "596b6957",
   "metadata": {},
   "source": [
    "$\\hat{MPG} = 39.9359 - 0.1578 \\cdot Horsepower$"
   ]
  },
  {
   "cell_type": "markdown",
   "id": "90da8284",
   "metadata": {},
   "source": [
    "### 2b) What does the slope tell you?"
   ]
  },
  {
   "cell_type": "markdown",
   "id": "2f8b7731",
   "metadata": {},
   "source": [
    "For each additional unit of horsepower, the predicted miles per gallon (mpg) decreases by approximately 0.158"
   ]
  },
  {
   "cell_type": "markdown",
   "id": "62810831",
   "metadata": {},
   "source": [
    "### 2c) How much uncertainty is associated with the slope estimate?"
   ]
  },
  {
   "cell_type": "markdown",
   "id": "cc62ce9a",
   "metadata": {},
   "source": [
    "The slope’s standard error is 0.006, meaning that the estimated slope typically varies by about 0.006 across samples. This yields a 95% confidence interval of [-0.171, -0.145], which is expected to contain the true slope 95% of the time."
   ]
  },
  {
   "cell_type": "markdown",
   "id": "912b379e",
   "metadata": {},
   "source": [
    "### 2d) What does the residual standard error tell you?"
   ]
  },
  {
   "cell_type": "markdown",
   "id": "e038e864",
   "metadata": {},
   "source": [
    "The residual standard error is the typical distance that the observed values fall from the fitted regression line."
   ]
  },
  {
   "cell_type": "markdown",
   "id": "d944145a",
   "metadata": {},
   "source": [
    "### 2e) Using this model, is there a significant relationship between mpg and horsepower?"
   ]
  },
  {
   "cell_type": "markdown",
   "id": "fad58763",
   "metadata": {},
   "source": [
    "Yes, there is a significant relationship between mpg and horsepower, because the 95% confidence interval for the slope [-0.171, -0.145] does not include 0"
   ]
  },
  {
   "cell_type": "markdown",
   "id": "b82bc23e",
   "metadata": {},
   "source": [
    "### 2f) What fraction of the variation in mpg is explained by using this linear function?"
   ]
  },
  {
   "cell_type": "markdown",
   "id": "28052e3d",
   "metadata": {},
   "source": [
    "$R^2 = 0.606$, which means $60.6\\%$ of total variation is explained by the model."
   ]
  },
  {
   "cell_type": "markdown",
   "id": "a08c702c",
   "metadata": {},
   "source": [
    "### 2g) What is the predicted mpg associated with a horsepower of 98?"
   ]
  },
  {
   "cell_type": "code",
   "execution_count": 169,
   "id": "6031d5b8",
   "metadata": {},
   "outputs": [
    {
     "name": "stdout",
     "output_type": "stream",
     "text": [
      "Predicted MPG for Horsepower of 98: 24.47 MPG\n"
     ]
    }
   ],
   "source": [
    "pred = model.predict([1, 98])[0]  # 1 to multiply with intercept\n",
    "\n",
    "print(f\"Predicted MPG for Horsepower of 98: {pred:.2f} MPG\")"
   ]
  },
  {
   "cell_type": "markdown",
   "id": "3b4cff34",
   "metadata": {},
   "source": [
    "### 2h) What is the 95% prediction interval for the predicted mpg associated with a horsepower of 98? For what types of questions would it be appropriate to look at the PI?"
   ]
  },
  {
   "cell_type": "code",
   "execution_count": 181,
   "id": "0ebeeeb6",
   "metadata": {},
   "outputs": [
    {
     "name": "stdout",
     "output_type": "stream",
     "text": [
      "95% PI: [14.81, 34.12]\n"
     ]
    }
   ],
   "source": [
    "pi_lower, pi_upper = (\n",
    "    model.get_prediction([1, 98])\n",
    "    .summary_frame(alpha=0.05)\n",
    "    .loc[0, [\"obs_ci_lower\", \"obs_ci_upper\"]]\n",
    ")\n",
    "print(f\"95% PI: [{pi_lower:.2f}, {pi_upper:.2f}]\")"
   ]
  },
  {
   "cell_type": "markdown",
   "id": "5e8a8ff9",
   "metadata": {},
   "source": [
    "<ul>\n",
    "  <li>If I buy a car with 98 horsepower, what range of mpg can I expect?</li>\n",
    "  <li>What is the likely mpg for a test car I haven’t seen yet?</li>\n",
    "</ul>"
   ]
  },
  {
   "cell_type": "markdown",
   "id": "e94ae321",
   "metadata": {},
   "source": [
    "### 2i) What is the 99% confidence interval for the slope?"
   ]
  },
  {
   "cell_type": "code",
   "execution_count": 180,
   "id": "2112a916",
   "metadata": {},
   "outputs": [
    {
     "name": "stdout",
     "output_type": "stream",
     "text": [
      "99% CI: [23.82, 25.12]\n"
     ]
    }
   ],
   "source": [
    "ci_lower, ci_upper = (\n",
    "    model.get_prediction([1, 98])\n",
    "    .summary_frame(alpha=0.01)\n",
    "    .loc[0, [\"mean_ci_lower\", \"mean_ci_upper\"]]\n",
    ")\n",
    "print(f\"99% CI: [{ci_lower:.2f}, {ci_upper:.2f}]\")"
   ]
  },
  {
   "cell_type": "markdown",
   "id": "ebbd3ada",
   "metadata": {},
   "source": [
    "### 2j) What is a 90% confidence interval for the slope?"
   ]
  },
  {
   "cell_type": "code",
   "execution_count": 182,
   "id": "1b32e7dd",
   "metadata": {},
   "outputs": [
    {
     "name": "stdout",
     "output_type": "stream",
     "text": [
      "90% CI: [24.05, 24.88]\n"
     ]
    }
   ],
   "source": [
    "ci_lower, ci_upper = (\n",
    "    model.get_prediction([1, 98])\n",
    "    .summary_frame(alpha=0.1)\n",
    "    .loc[0, [\"mean_ci_lower\", \"mean_ci_upper\"]]\n",
    ")\n",
    "print(f\"90% CI: [{ci_lower:.2f}, {ci_upper:.2f}]\")"
   ]
  },
  {
   "cell_type": "markdown",
   "id": "853fe60b",
   "metadata": {},
   "source": [
    "### 2k) In looking at the scatterplot and fitted model, note any violations of the model assumptions."
   ]
  },
  {
   "cell_type": "markdown",
   "id": "40537619",
   "metadata": {},
   "source": [
    "<ul>\n",
    "    <li> There is a curvature in the data -> Data is nonlinear\n",
    "    <li> Some indication of heteroscedasticity\n",
    "</ul>"
   ]
  }
 ],
 "metadata": {
  "kernelspec": {
   "display_name": "machine-learning-i",
   "language": "python",
   "name": "python3"
  },
  "language_info": {
   "codemirror_mode": {
    "name": "ipython",
    "version": 3
   },
   "file_extension": ".py",
   "mimetype": "text/x-python",
   "name": "python",
   "nbconvert_exporter": "python",
   "pygments_lexer": "ipython3",
   "version": "3.13.3"
  }
 },
 "nbformat": 4,
 "nbformat_minor": 5
}
